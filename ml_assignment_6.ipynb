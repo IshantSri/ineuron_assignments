{
 "cells": [
  {
   "cell_type": "markdown",
   "id": "c95d2853",
   "metadata": {},
   "source": [
    "# 1. In the sense of machine learning, what is a model? What is the best way to train a model?"
   ]
  },
  {
   "cell_type": "markdown",
   "id": "44c32982",
   "metadata": {},
   "source": [
    "Ans. A machine learning model is a file that has been trained to recognize certain types of patterns. You train a model over a set of data, providing it an algorithm that it can use to reason over and learn from those data.\n",
    "\n",
    "### To train an ML model, you need to specify the following:\n",
    "\n",
    ">Input training datasource\n",
    "\n",
    ">Name of the data attribute that contains the target to be predicted\n",
    "\n",
    ">Required data transformation instructions\n",
    "\n",
    ">Training parameters to control the learning algorithm"
   ]
  },
  {
   "cell_type": "markdown",
   "id": "fe589792",
   "metadata": {},
   "source": [
    "# 2. In the sense of machine learning, explain the \"No Free Lunch\" theorem.\n",
    "ans.The “No Free Lunch” Theorem argues that, without having substantive information about the modeling problem, there is no single model that will always do better than any other model. Because of this, a strong case can be made to try a wide variety of techniques, then determine which model to focus on."
   ]
  },
  {
   "cell_type": "markdown",
   "id": "ac5bcb60",
   "metadata": {},
   "source": [
    "# 3. Describe the K-fold cross-validation mechanism in detail."
   ]
  },
  {
   "cell_type": "markdown",
   "id": "6ba6d791",
   "metadata": {},
   "source": [
    "k-fold cross validation is a procedure used to estimate the skill of the model on new data.There are common tactics that you can use to select the value of k for your dataset.There are commonly used variations on cross-validation such as stratified and repeated that are available in scikit-learn.It is a popular method because it is simple to understand and because it generally results in a less biased or less optimistic estimate of the model skill than other methods, such as a simple train/test split.\n",
    "\n",
    "## The general procedure is as follows:\n",
    "\n",
    "1. Shuffle the dataset randomly.\n",
    "2. Split the dataset into k groups\n",
    "3. For each unique group:\n",
    "                         1. Take the group as a hold out or test data set\n",
    "                         2.Take the remaining groups as a training data set\n",
    "                         3.Fit a model on the training set and evaluate it on the test set\n",
    "                         4.Retain the evaluation score and discard the model\n",
    "4. Summarize the skill of the model using the sample of model evaluation scores\n",
    "\n",
    "Importantly, each observation in the data sample is assigned to an individual group and stays in that group for the duration of the procedure. This means that each sample is given the opportunity to be used in the hold out set 1 time and used to train the model k-1 times."
   ]
  },
  {
   "cell_type": "markdown",
   "id": "ea4b5a91",
   "metadata": {},
   "source": [
    "# 4. Describe the bootstrap sampling method. What is the aim of it?"
   ]
  },
  {
   "cell_type": "markdown",
   "id": "f02c8f5b",
   "metadata": {},
   "source": [
    "ans.Bootstrapping is a statistical procedure that resamples a single dataset to create many simulated samples. This process allows you to calculate standard errors, construct confidence intervals, and perform hypothesis testing for numerous types of sample statistics. Bootstrap methods are alternative approaches to traditional hypothesis testing and are notable for being easier to understand and valid for more conditions."
   ]
  },
  {
   "cell_type": "markdown",
   "id": "cc8cb759",
   "metadata": {},
   "source": [
    "# 5. What is the significance of calculating the Kappa value for a classification model? Demonstrate how to measure the Kappa value of a classification model using a sample collection of results."
   ]
  },
  {
   "cell_type": "markdown",
   "id": "5bbf633a",
   "metadata": {},
   "source": [
    "ans. Kappa value or Cohen's Kappa coefficient is an evaluation metric for classification models. Its significance as an evaluation metric is that it can be used to evaluate multi class classification models and also works on models trained on imbalanced datasets(scores like accuracy scores fail for imbalanced datasets).\n",
    "\n",
    "In simpler words It basically tells you how much better your classifier is performing over the performance of a classifier that simply guesses at random according to the frequency of each class. Cohen's kappa is always less than or equal to 1. Values of 0 or less, indicate that the classifier is useless Cohen suggested the Kappa result be interpreted as follows: values ≤ 0 as indicating no agreement and 0.01–0.20 as none to slight, 0.21–0.40 as fair, 0.41– 0.60 as moderate, 0.61–0.80 as substantial, and 0.81–1.00 as almost perfect agreement."
   ]
  },
  {
   "cell_type": "markdown",
   "id": "785abd5d",
   "metadata": {},
   "source": [
    "# 6. Describe the model ensemble method. In machine learning, what part does it play?"
   ]
  },
  {
   "cell_type": "markdown",
   "id": "7465569c",
   "metadata": {},
   "source": [
    "ans. Ensemble methods or ensemble machine learning models are models where more than one models are being used spontaneously to produce better results than individually trained models."
   ]
  },
  {
   "cell_type": "markdown",
   "id": "6d363bfa",
   "metadata": {},
   "source": [
    "# 7. What is a descriptive model's main purpose? Give examples of real-world problems that descriptive models were used to solve."
   ]
  },
  {
   "cell_type": "markdown",
   "id": "e78ee65c",
   "metadata": {},
   "source": [
    "A descriptive model is used for tasks that would benefit from the insight gained from summarizing data in new and interesting ways. As opposed to predictive models that predict a target of interest, in a descriptive model, no single feature is more important than any other. In fact, because there is no target to learn, the process of training a descriptive model is called unsupervised learning."
   ]
  },
  {
   "cell_type": "markdown",
   "id": "1154595a",
   "metadata": {},
   "source": [
    "# 8. Describe how to evaluate a linear regression model.\n",
    "Ans: Evaluation of a linear regression model can be done using R-square. R square is calculated as the sum of squared errors in predictions made, divided by summation of all sum of squares. R square measures how much of the change in target variable can be explained by the linear regressor. Its value ranges from 0 to 1 where 0 means poor performance and 1 means good. \n",
    "## Some other techniques which can be used to evaluate a linear regression model are:\n",
    "\n",
    "#### Mean Square Error(MSE)/Root Mean Square Error(RMSE)\n",
    "#### Mean Absolute Error(MAE)"
   ]
  },
  {
   "cell_type": "markdown",
   "id": "e4f1111e",
   "metadata": {},
   "source": [
    "# 9. Distinguish :\n",
    "##### Descriptive vs. predictive models\n",
    "##### Underfitting vs. overfitting the model\n",
    "##### Bootstrapping vs. cross-validation\n",
    "\n",
    "Ans: The differences between:\n",
    "\n",
    "# Descriptive vs. predictive models\n",
    "\n",
    "Descriptive models are built to identify trends and underlying patterns.\n",
    "\n",
    "Predictive models are built to predict a dependent variable value.\n",
    "\n",
    "Most of descriptive models are built using unsupervised machine learning.\n",
    "\n",
    "Most of predictive models are built using classification and regression models.\n",
    "\n",
    "Example for descriptive model: Finding why consumers are engaging more with a social media post.\n",
    "\n",
    "Example for predictive model: Predicting the chances of cancer in a patient.\n",
    "\n",
    "# Underfitting vs. overfitting the model\n",
    "\n",
    "Underfitting is a situation arising when the hypothesis is way too simple, or when the machine learning model is way too simple to produce good results.\n",
    "\n",
    "Overfitting is a situation arising when the hypothesis is way too complex, or when the machine learning model is way too complex to produce good results.\n",
    "\n",
    "Underfitting causes a model to produce poor results due to heavily simplified algorithm reacting lightly to changes in the \n",
    "unseen data for independent variables from the training data.\n",
    "\n",
    "Overfitting makes a model produce poor results due to slightest variations in the unseen data for independent variables from the training data\n",
    "\n",
    "Underfitting is also called High Bias.\n",
    "\n",
    "\n",
    "Overfitting is also called High variance\n",
    "\n",
    "Bootstrapping vs cross-validation\n",
    "\n",
    "Boostrap sampling is a method of sampling in which the repeated sampling is done with replacement using a data D in random draws over which machine learning models are trained for better performance.\n",
    "\n",
    "Cross validation is a method used to check the efficacy of the machine learning model on test data.\n",
    "\n",
    "End goal of bootstrapping is to reduce overfitting and increase performance.\n",
    "\n",
    "End goal of cross validation is only to produce test scores to check efficacy of model\n",
    "\n",
    "Bootstrapping is best employed in Random Forest Classifier.\n",
    "\n",
    "Cross Validation is best employed using K-fold cross validation technique."
   ]
  },
  {
   "cell_type": "markdown",
   "id": "6577b360",
   "metadata": {},
   "source": [
    "# 10. Make quick notes on:\n",
    "### LOOCV.\n",
    "### F-measurement\n",
    "### The width of the silhouette\n",
    "### Receiver operating characteristic curve\n",
    "\n",
    "Ans: The Quick notes on: LOOCV or Leave One Out Cross Validation is a form of K-fold cross validation where only one observation is left out for validation purpose while the rest of the data is used for model training each iteration. It is computationally taxing and should only be used for data with low dimensionality.\n",
    "\n",
    "Harmonic mean of Precision score and recall score is called F-measurement or F-score. It is formulated as 2 (pr re)/pr +re where pr is precision score and re is recall score.\n",
    "\n",
    "Estimate of average inter cluster distance to give efficacy/performance of cluster algorithms is called width of the silhouette. It can also be defined as how identical/similar a data point 'x' is to the data points inside the cluster to which x is assigned. Its value ranges from -1 to 1 where 1 means good and -1 means bad.\n",
    "\n",
    "Curve plotted between True Positive Rate and False Positive Rate is Receiver Operating Characteristics curve and is used to find the area under the curve for ROC-AUC score for binary classification evaluation. True Positive Rate and False Positive Rate are calculated for different thresholds values where thresholds take values starting from the highest probability scores assigned to data points and goes up to the lowest probability score. The curve is impacted by presence of outliers, and simple models. Extensions can be made to this curve to suit multiclass classification evaluation requirements."
   ]
  }
 ],
 "metadata": {
  "kernelspec": {
   "display_name": "Python 3",
   "language": "python",
   "name": "python3"
  },
  "language_info": {
   "codemirror_mode": {
    "name": "ipython",
    "version": 3
   },
   "file_extension": ".py",
   "mimetype": "text/x-python",
   "name": "python",
   "nbconvert_exporter": "python",
   "pygments_lexer": "ipython3",
   "version": "3.8.8"
  }
 },
 "nbformat": 4,
 "nbformat_minor": 5
}
