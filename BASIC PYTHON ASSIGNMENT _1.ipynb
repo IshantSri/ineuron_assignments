{
 "cells": [
  {
   "cell_type": "markdown",
   "metadata": {},
   "source": [
    "1. In the below elements which of them are values or an expression? eg:- values can be integer or string and expressions will be mathematical operators.\n",
    "* \n",
    "'hello'\n",
    "-87.8\n",
    "- \n",
    "/ \n",
    "+\t\n",
    "6 \n",
    "\n",
    "\n",
    "\n",
    "\n",
    "Answer:-  values- ‘hello’ , -87.8 ,6\n",
    "                 Expression- *, - , /, +\n"
   ]
  },
  {
   "cell_type": "markdown",
   "metadata": {},
   "source": [
    "2. What is the difference between string and variable?\n",
    "\n",
    "\n",
    "\n",
    "Answer:-  string is a type of information (data type)  and variable stands for a set of information stored. For e.g.  ‘Hello world ‘, ‘its 2021’ are strings and now if we store these information in A, then our A will be a variable with string data type objects.\n"
   ]
  },
  {
   "cell_type": "markdown",
   "metadata": {},
   "source": [
    "3. Describe three different data types.\n",
    "\n",
    "\n",
    "Answer: - 1. Strings – contains all characters, words, &   texts . Strings always start and end with quotes (like “this” or like ‘this’).\n",
    "                  2. Integer – this contains natural numbers\n",
    "                  3. Float – contains logical decision like true and false\n"
   ]
  },
  {
   "cell_type": "markdown",
   "metadata": {},
   "source": [
    "4. What is an expression made up of? What do all expressions do?\n",
    "\n",
    "\n",
    "Answer:-  expression is made up of values, variables and operators. It helps to evaluate down combinations of different value to  a single  value.\n"
   ]
  },
  {
   "cell_type": "markdown",
   "metadata": {},
   "source": [
    "5. This assignment statements, like spam = 10. What is the difference between an expression and a statement?\n",
    "\n",
    "\n",
    "Answer:- Expression helps to evaluate any value and statement is everything  that we code to perform any task.\n"
   ]
  },
  {
   "cell_type": "markdown",
   "metadata": {},
   "source": [
    "6. After running the following code, what does the variable bacon contain?\n",
    "Bacon = 22\n",
    "bacon + 1\n",
    "\n",
    "\n",
    "answer:-  23\n"
   ]
  },
  {
   "cell_type": "markdown",
   "metadata": {},
   "source": [
    "7. What should the values of the following two terms be?\n",
    "\n",
    "\n",
    "'spam' + 'spamspam' = ‘spamspamspam’\n",
    "'spam' * 3 = ‘spamspamspam’\n"
   ]
  },
  {
   "cell_type": "markdown",
   "metadata": {},
   "source": [
    "8. Why is eggs a valid variable name while 100 is invalid?\n",
    "\n",
    "\n",
    "Answer:- eggs a valid variable name while 100 is invalid as variables cannot be defined by an integer or number.\n"
   ]
  },
  {
   "cell_type": "markdown",
   "metadata": {},
   "source": [
    "9. What three functions can be used to get the integer, floating-point number, or string version of a value?\n",
    "\n",
    "\n",
    "Answer:-  integers – int()\n",
    "                    Float value – float()\n",
    "                    String – str()\n"
   ]
  },
  {
   "cell_type": "markdown",
   "metadata": {},
   "source": [
    "10. Why does this expression cause an error? How can you fix it?\n",
    "'I have eaten ' + 99 + ' burritos.'\n",
    "\n",
    "\n",
    "\n",
    "Answer:- the error is  shown  because we are connecting two different data types (an integer with a string)\n",
    "And to solve this issue we can put quotes over 99 as ‘99’ which will make 99 a string element and our output will be  'I have eaten 99burritos.'\n"
   ]
  }
 ],
 "metadata": {
  "kernelspec": {
   "display_name": "Python 3",
   "language": "python",
   "name": "python3"
  },
  "language_info": {
   "codemirror_mode": {
    "name": "ipython",
    "version": 3
   },
   "file_extension": ".py",
   "mimetype": "text/x-python",
   "name": "python",
   "nbconvert_exporter": "python",
   "pygments_lexer": "ipython3",
   "version": "3.8.5"
  }
 },
 "nbformat": 4,
 "nbformat_minor": 4
}
