{
 "cells": [
  {
   "cell_type": "markdown",
   "id": "819ac597",
   "metadata": {},
   "source": [
    "# 1. What does one mean by the term &quot;machine learning&quot;?"
   ]
  },
  {
   "cell_type": "markdown",
   "id": "ff9f4b2e",
   "metadata": {},
   "source": [
    "ANS:- Machine learning is an application of artificial intelligence (AI) that provides systems the ability to automatically learn and improve from experience without being explicitly programmed. Machine learning focuses on the development of computer programs that can access data and use it to learn for themselves"
   ]
  },
  {
   "cell_type": "markdown",
   "id": "faa6fd00",
   "metadata": {},
   "source": [
    "# 2.Can you think of 4 distinct types of issues where it shines?"
   ]
  },
  {
   "cell_type": "markdown",
   "id": "4e81e25c",
   "metadata": {},
   "source": [
    "ANS:- Machine learning is great for problems whose solution requires a great deal of work or a long list of rules, complex problems that are hard to get a solution of using a traditional method, fluctuating environments and getting insights about complex problems and large data."
   ]
  },
  {
   "cell_type": "markdown",
   "id": "893ccbb7",
   "metadata": {},
   "source": [
    "# 3.What is a labeled training set, and how does it work?"
   ]
  },
  {
   "cell_type": "markdown",
   "id": "59c0ee2c",
   "metadata": {},
   "source": [
    "ans:- Labeled training set is a set of training data which has a solution to the problem or task (a.k.a. label),labled training set helps our supervised models to learn easily."
   ]
  },
  {
   "cell_type": "markdown",
   "id": "63259b31",
   "metadata": {},
   "source": [
    "# 4.What are the two most important tasks that are supervised?"
   ]
  },
  {
   "cell_type": "markdown",
   "id": "9693158a",
   "metadata": {},
   "source": [
    "classification and regression are two most important task falls under supervised learning. "
   ]
  },
  {
   "cell_type": "markdown",
   "id": "2aca0251",
   "metadata": {},
   "source": [
    "# 5.Can you think of four examples of unsupervised tasks?"
   ]
  },
  {
   "cell_type": "markdown",
   "id": "051260b1",
   "metadata": {},
   "source": [
    "ans :- clustering, knn, dimensionality reduction , and association rule learning"
   ]
  },
  {
   "cell_type": "markdown",
   "id": "2879abb7",
   "metadata": {},
   "source": [
    "# 6.State the machine learning model that would be best to make a robot walk through various unfamiliar terrains?"
   ]
  },
  {
   "cell_type": "markdown",
   "id": "1e0b1a03",
   "metadata": {},
   "source": [
    "Reinforcement Learning, where the robot can learn from response of the terrain to optimize itself."
   ]
  },
  {
   "cell_type": "markdown",
   "id": "15552ed0",
   "metadata": {},
   "source": [
    "# 7.Which algorithm will you use to divide your customers into different groups?"
   ]
  },
  {
   "cell_type": "markdown",
   "id": "ebf15fe5",
   "metadata": {},
   "source": [
    "ans:- we can eiter use clustering algorithms if data is not labeled else we can use classification methods for labeled data set."
   ]
  },
  {
   "cell_type": "markdown",
   "id": "b8a6a5eb",
   "metadata": {},
   "source": [
    "# 8.Will you consider the problem of spam detection to be a supervised or unsupervised learning problem?"
   ]
  },
  {
   "cell_type": "markdown",
   "id": "565bd55a",
   "metadata": {},
   "source": [
    "ans :- Spam detection is a supervised learning problem because the labels are known (spam or no spam)."
   ]
  },
  {
   "cell_type": "markdown",
   "id": "ee731232",
   "metadata": {},
   "source": [
    "# 9.What is the concept of an online learning system?"
   ]
  },
  {
   "cell_type": "markdown",
   "id": "c7ab7e49",
   "metadata": {},
   "source": [
    "ans:-Online learning system is a learning system in which the machine learns as data is given in small streams continuously."
   ]
  },
  {
   "cell_type": "markdown",
   "id": "22ef7efb",
   "metadata": {},
   "source": [
    "# 10.What is out-of-core learning, and how does it differ from core learning?"
   ]
  },
  {
   "cell_type": "markdown",
   "id": "e0e80b4b",
   "metadata": {},
   "source": [
    "Out-of-core learning system is a system that can handle data that cannot fit into your computer memory. It uses online learning system to feed data in small bits."
   ]
  },
  {
   "cell_type": "markdown",
   "id": "168e97a3",
   "metadata": {},
   "source": [
    "# 11.What kind of learning algorithm makes predictions using a similarity measure?"
   ]
  },
  {
   "cell_type": "markdown",
   "id": "8dc89380",
   "metadata": {},
   "source": [
    "ans:- instance-based learning are the systems that predicts output using a similarity measure"
   ]
  },
  {
   "cell_type": "markdown",
   "id": "a3c699eb",
   "metadata": {},
   "source": [
    "# 12.What's the difference between a model parameter and a hyperparameter in a learning algorithm?"
   ]
  },
  {
   "cell_type": "markdown",
   "id": "ad334380",
   "metadata": {},
   "source": [
    "ans:- hyperparameter gives the parameters to train the best model and model parameters are the learnings of any model using what a model predits the outcomes "
   ]
  },
  {
   "cell_type": "markdown",
   "id": "f08c63ea",
   "metadata": {},
   "source": [
    "# 13.What are the criteria that model-based learning algorithms look for? What is the most popular method they use to achieve success? What method do they use to make predictions?"
   ]
  },
  {
   "cell_type": "markdown",
   "id": "5198f76d",
   "metadata": {},
   "source": [
    "ans:- model based learning algos try to find paterns in our given fearures to build a function which contains some parameters and  implement them on any new data point .cost function is most used function to achive success. funcrions and parameters of models are used to predict output "
   ]
  },
  {
   "cell_type": "markdown",
   "id": "794a9f63",
   "metadata": {},
   "source": [
    "# 14.Can you name four of the most important Machine Learning challenges?"
   ]
  },
  {
   "cell_type": "markdown",
   "id": "01516058",
   "metadata": {},
   "source": [
    "#ans:- overfitting,underfitting,bad data quality,data leakage."
   ]
  },
  {
   "cell_type": "markdown",
   "id": "ee118e9a",
   "metadata": {},
   "source": [
    "# 15.What happens if the model performs well on the training data but fails to generalize the results to new situations? Can you think of three different options?"
   ]
  },
  {
   "cell_type": "markdown",
   "id": "9b01dd89",
   "metadata": {},
   "source": [
    "ans:- Unrepresentative Data Sample, overfitting,Stochastic Algorithm"
   ]
  },
  {
   "cell_type": "markdown",
   "id": "9fd64d8e",
   "metadata": {},
   "source": [
    "# 16.What exactly is a test set, and why would you need one?\n"
   ]
  },
  {
   "cell_type": "markdown",
   "id": "48cfcf0b",
   "metadata": {},
   "source": [
    "ans:-Test set is a set that you test your model (fit using training data) to see how it performs. Test set is necessary so that you can determine how good (or bad) your model performs"
   ]
  },
  {
   "cell_type": "markdown",
   "id": "f075482e",
   "metadata": {},
   "source": [
    "# 17.What is a validation set's purpose?"
   ]
  },
  {
   "cell_type": "markdown",
   "id": "767549dc",
   "metadata": {},
   "source": [
    "ans:-Validation set is a set used to compare between different training models"
   ]
  },
  {
   "cell_type": "markdown",
   "id": "a281490d",
   "metadata": {},
   "source": [
    "# 18.What precisely is the train-dev kit, when will you need it, how do you put it to use?"
   ]
  },
  {
   "cell_type": "markdown",
   "id": "2e1d61b5",
   "metadata": {},
   "source": [
    "tain-dev kit is a set of data which is used to tune our hyperparameters broadly known as validation data set."
   ]
  },
  {
   "cell_type": "markdown",
   "id": "fb9ab73b",
   "metadata": {},
   "source": [
    "# 19.What could go wrong if you use the test set to tune hyperparameters?"
   ]
  },
  {
   "cell_type": "markdown",
   "id": "8661407e",
   "metadata": {},
   "source": [
    "ans:- If we do so we will be showing our data to our model which in return will lead to baisness and we wont get the actual accuracy of our model."
   ]
  }
 ],
 "metadata": {
  "kernelspec": {
   "display_name": "Python 3",
   "language": "python",
   "name": "python3"
  },
  "language_info": {
   "codemirror_mode": {
    "name": "ipython",
    "version": 3
   },
   "file_extension": ".py",
   "mimetype": "text/x-python",
   "name": "python",
   "nbconvert_exporter": "python",
   "pygments_lexer": "ipython3",
   "version": "3.8.8"
  }
 },
 "nbformat": 4,
 "nbformat_minor": 5
}
