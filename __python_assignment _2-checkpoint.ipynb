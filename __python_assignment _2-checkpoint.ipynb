{
 "cells": [
  {
   "cell_type": "markdown",
   "id": "076d3859",
   "metadata": {},
   "source": [
    "1.What are the two values of the Boolean data type? How do you write them?\n",
    "\n",
    "\n",
    "ans- True and False are used to represent booean values and can also be shown in form of 0 & 1."
   ]
  },
  {
   "cell_type": "markdown",
   "id": "092b54e9",
   "metadata": {},
   "source": [
    "2. What are the three different types of Boolean operators?\n",
    "\n",
    "\n",
    "ans- AND,OR & NOT\n"
   ]
  },
  {
   "cell_type": "markdown",
   "id": "1f89fc5a",
   "metadata": {},
   "source": [
    "3. Make a list of each Boolean operator's truth tables (i.e. every possible combination of Boolean values for the operator and what it evaluate ).\n",
    "\n",
    "\n",
    "ans.AND:-\n",
    "\n",
    "True and True = True\n",
    "\n",
    "True and False = False\n",
    "\n",
    "False and True = False\n",
    "\n",
    "False and False = False\n",
    "\n",
    "OR:-\n",
    "\n",
    "True or True = True\n",
    "\n",
    "True or False = True\n",
    "\n",
    "False or True = True\n",
    "\n",
    "False or False = False\n",
    "\n",
    "NOT:-\n",
    "\n",
    "not(True) = False\n",
    "\n",
    "not(False) = True\n"
   ]
  },
  {
   "cell_type": "markdown",
   "id": "141b0462",
   "metadata": {},
   "source": [
    "\n",
    "4. What are the values of the following expressions?\n",
    "\n",
    "(5 > 4) and (3 == 5) =>>> False\n",
    "\n",
    "not (5 > 4) =>>> False\n",
    "\n",
    "(5 > 4) or (3 == 5) =>>> True\n",
    "\n",
    "not ((5 > 4) or (3 == 5)) =>>> False\n",
    "\n",
    "(True and True) and (True == False)=>>>False\n",
    "\n",
    "(not False) or (not True)=>>> True\n"
   ]
  },
  {
   "cell_type": "markdown",
   "id": "a98be866",
   "metadata": {},
   "source": [
    "5. What are the six comparison operators?\n",
    "\n",
    "Ans.less than(<)\n",
    "    \n",
    "    greater than(>)\n",
    "    \n",
    "    greater than or equal to(>=)\n",
    "    \n",
    "    less than or equal to(<=)\n",
    "    \n",
    "    Equal(==)\n",
    "    \n",
    "    Not-equal(!=)"
   ]
  },
  {
   "cell_type": "markdown",
   "id": "4a710a2a",
   "metadata": {},
   "source": [
    "6. How do you tell the difference between the equal to and assignment operators?Describe a condition and when you would use one.\n",
    "\n",
    "ans. Assignment operator(=) is used to assign values and equal to(==) is used to check our operands are equal or not'\n",
    "     \n",
    "     example:-\n",
    "     \n",
    "     a = 4-2\n",
    "     \n",
    "     b = 2\n",
    "     \n",
    "     a==b\n",
    "   \n",
    "   >>>True   \n",
    "   "
   ]
  },
  {
   "cell_type": "markdown",
   "id": "319f2705",
   "metadata": {},
   "source": [
    "7. Identify the three blocks in this code:\n",
    "spam = 0\n",
    "if spam == 10:\n",
    "print('eggs')\n",
    "if spam > 5:\n",
    "print('bacon')\n",
    "else:\n",
    "print('ham')\n",
    "print('spam')\n",
    "print('spam')\n",
    "\n",
    "Ans.spam = 0\n",
    "    \n",
    "    if spam == 10:\n",
    "       \n",
    "       print('eggs')\n",
    "    \n",
    "    if spam > 5:\n",
    "        \n",
    "        print('bacon')\n",
    "    \n",
    "    else:\n",
    "        \n",
    "        print('ham')\n",
    "        \n",
    "        print('spam')\n",
    "        \n",
    "        print('spam')\n"
   ]
  },
  {
   "cell_type": "markdown",
   "id": "115b8505",
   "metadata": {},
   "source": [
    "8. Write code that prints Hello if 1 is stored in spam, prints Howdy if 2 is stored in spam, and prints Greetings! if anything else is stored in spam.\n",
    "\n",
    "Ams. spam = 2\n",
    "\n",
    "if  spam == 1:\n",
    "    \n",
    "    print(\"Hello\")\n",
    "\n",
    "elif spam == 2:\n",
    "       \n",
    "       print(\"Howdy\")\n",
    "\n",
    "else:\n",
    "    \n",
    "    print(\"Greetings!\")"
   ]
  },
  {
   "cell_type": "markdown",
   "id": "358243a4",
   "metadata": {},
   "source": [
    "\n",
    "9.If your programme is stuck in an endless loop, what keys you’ll press?\n",
    "\n",
    "Ans. CTRL + C "
   ]
  },
  {
   "cell_type": "markdown",
   "id": "e85a9694",
   "metadata": {},
   "source": [
    "10. How can you tell the difference between break and continue?\n",
    "\n",
    "ans. Break- It eliminates the execution of remaining iteration of loop.\n",
    "     \n",
    "     Continue-It will terminate only the current iteration of loop."
   ]
  },
  {
   "cell_type": "markdown",
   "id": "d15ea2c4",
   "metadata": {},
   "source": [
    "11. In a for loop, what is the difference between range(10), range(0, 10), and range(0, 10, 1)?\n",
    "\n",
    "Ans. range(10)- it stands for 0,1,2,3,4,5,6,7,8,9\n",
    "     \n",
    "     range(0,10)- it gives 1,2,3,4,5,6,7,8,9\n",
    "     \n",
    "     range(0,10,1)- output will be 0,1,2,3,4,5,6,7,8,9"
   ]
  },
  {
   "cell_type": "markdown",
   "id": "297cc722",
   "metadata": {},
   "source": [
    "12. Write a short program that prints the numbers 1 to 10 using a for loop. Then write an equivalent program that prints the numbers 1 to 10 using a while loop.\n",
    "\n",
    "ans. for i in range(1,10):\n",
    "         \n",
    "         print(i, end =\" \")\n",
    "     \n",
    "     print()\n",
    "\n",
    "     \n",
    "     i = 1\n",
    "     \n",
    "     while(i<=10):\n",
    "          \n",
    "          print(i)\n",
    "          \n",
    "          i += 1"
   ]
  },
  {
   "cell_type": "markdown",
   "id": "593d9c58",
   "metadata": {},
   "source": [
    "13. If you had a function named bacon() inside a module named spam, how would you call it after importing spam?\n",
    "\n",
    "ans. spam.bacon()"
   ]
  }
 ],
 "metadata": {
  "kernelspec": {
   "display_name": "Python 3",
   "language": "python",
   "name": "python3"
  },
  "language_info": {
   "codemirror_mode": {
    "name": "ipython",
    "version": 3
   },
   "file_extension": ".py",
   "mimetype": "text/x-python",
   "name": "python",
   "nbconvert_exporter": "python",
   "pygments_lexer": "ipython3",
   "version": "3.8.8"
  }
 },
 "nbformat": 4,
 "nbformat_minor": 5
}
