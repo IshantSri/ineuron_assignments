{
 "cells": [
  {
   "cell_type": "markdown",
   "id": "397b947a",
   "metadata": {},
   "source": [
    "# 1. What is the concept of human learning? Please give two examples. "
   ]
  },
  {
   "cell_type": "markdown",
   "id": "da22d229",
   "metadata": {},
   "source": [
    "ans:- process of learning through others or own experiences is known as human learning.eg.taste of tea(good or bad) and feeling others pain to help them"
   ]
  },
  {
   "cell_type": "markdown",
   "id": "439dcf62",
   "metadata": {},
   "source": [
    "# 2.What different forms of human learning are there? Are there any machine learning equivalents?"
   ]
  },
  {
   "cell_type": "markdown",
   "id": "bd519f40",
   "metadata": {},
   "source": [
    "There are three main types of learning: classical conditioning, operant conditioning, and observational learning. Machines acquire knowledge through experience shared in the form of past data os we can sAY that 3 of the above learnig patterns also involved in ml as supervised unsupervised and reinforcement learning."
   ]
  },
  {
   "cell_type": "markdown",
   "id": "3f5a68c0",
   "metadata": {},
   "source": [
    "# 3. What is machine learning, and how does it work? What are the key responsibilities of machine learning?"
   ]
  },
  {
   "cell_type": "markdown",
   "id": "4c9070d4",
   "metadata": {},
   "source": [
    "Machine learning is the science of enabling computers to function without being programmed to do so.This branch of artificial intelligence can enable systems to identify patterns in data, make decisions, and predict future outcomes.key responsibilities of ml are clusstering data,estimating future outcomes and classifying data to n numbers of classes."
   ]
  },
  {
   "cell_type": "markdown",
   "id": "0b19a2e7",
   "metadata": {},
   "source": [
    "# 4. Define the terms \"penalty\" and \"reward\" in the context of reinforcement learning."
   ]
  },
  {
   "cell_type": "markdown",
   "id": "8a9c99bb",
   "metadata": {},
   "source": [
    "penalty and reward are two things which helps our model to perform and learn properly as our model is rewarded for every dezired or correct work performed by them and penalty is applied for every wrong activity performed by them."
   ]
  },
  {
   "cell_type": "markdown",
   "id": "5122ff30",
   "metadata": {},
   "source": [
    "#  5. Explain the term \"learning as a search\"?"
   ]
  },
  {
   "cell_type": "markdown",
   "id": "404ec586",
   "metadata": {},
   "source": [
    "searching best hypothesis for best fit is known as learning as search."
   ]
  },
  {
   "cell_type": "markdown",
   "id": "99e44df6",
   "metadata": {},
   "source": [
    "# 6. What are the various goals of machine learning? What is the relationship between these and human learning?"
   ]
  },
  {
   "cell_type": "markdown",
   "id": "b97d5ce3",
   "metadata": {},
   "source": [
    "The goal of ML, in simples words, is to understand the nature of (human and other forms of) learning, and to build learning capability in computers. To be more specific, there are three aspects of the goals\n",
    "of ML.\n",
    "(1) To make the computers smarter, more intelligent. The more direct objective in this aspect is to\n",
    "develop systems (programs) for specific practical learning tasks in application domains.\n",
    "(2) To dev elop computational models of human learning process and perform computer simulations.\n",
    "(3) To explore new learning methods and develop general learning algorithms independent of applications.\n",
    "\n",
    "machine learning and human learning both are a bit similar as every learning, fundamentally, is a model expressing a pattern in a set of observations. If there is no conceivable pattern, there will be no learning. machine learning models also learns by observing something, identifying a pattern, building a theory (model) to explain this pattern and testing this theory to check if its fits in most or all observations.\n"
   ]
  },
  {
   "cell_type": "markdown",
   "id": "7e20567b",
   "metadata": {},
   "source": [
    "# 7. Illustrate the various elements of machine learning using a real-life illustration."
   ]
  },
  {
   "cell_type": "markdown",
   "id": "0ab52ba5",
   "metadata": {},
   "source": [
    "The Various elements of the the Machine Learning are:\n",
    "\n",
    "1.Data\n",
    "2.Task\n",
    "3.Model\n",
    "4.Loss Function\n",
    "5.Learning Algorithm\n",
    "6.Evaluation"
   ]
  },
  {
   "cell_type": "markdown",
   "id": "db785860",
   "metadata": {},
   "source": [
    "# 8. Provide an example of the abstraction method"
   ]
  },
  {
   "cell_type": "markdown",
   "id": "b2bd0069",
   "metadata": {},
   "source": [
    "Ans: In Machine Learning, Abstraction is supported primarily at the level of modules. This can be justified in two ways: first, Data abstraction is mostly a question of program interfaces and therefore it arises naturally at the point where we have to consider program composition and modules."
   ]
  },
  {
   "cell_type": "markdown",
   "id": "02f5bd2a",
   "metadata": {},
   "source": [
    "# 9. What is the concept of generalization? What function does it play in the machine learning process?\n"
   ]
  },
  {
   "cell_type": "markdown",
   "id": "4fc3be4f",
   "metadata": {},
   "source": [
    "concept of generalization stands for adaptability of model for new entries or data. it helps our model to apply  parameters trained well on new unseen data."
   ]
  },
  {
   "cell_type": "markdown",
   "id": "b9a93301",
   "metadata": {},
   "source": [
    "# 10.What is classification, exactly? What are the main distinctions between classification and regression?"
   ]
  },
  {
   "cell_type": "markdown",
   "id": "cf01130e",
   "metadata": {},
   "source": [
    "both classification and regression are predictive models classification predicts classes of output catagorical data , regression is used on data which gives numerical values as output."
   ]
  },
  {
   "cell_type": "markdown",
   "id": "3e04d468",
   "metadata": {},
   "source": [
    "# 11. What is regression, and how does it work? Give an example of a real-world problem that was solved using regression."
   ]
  },
  {
   "cell_type": "markdown",
   "id": "e76798ca",
   "metadata": {},
   "source": [
    "Regression is a Supervised Machine Learning technique which is used to predict continuous values. The ultimate goal of a regression algorithm is to plot a best-fit line or a curve between the data.\n",
    "\n",
    "The three main metrics that are used for evaluating the trained regression model are Variance, Bias and Error.\n",
    "\n",
    "A simple linear regression real life example could mean you finding a relationship between the revenue and temperature, with a sample size for revenue as the dependent variable. In case of multiple variable regression, you can find the relationship between temperature, pricing and number of workers to the revenue."
   ]
  },
  {
   "cell_type": "markdown",
   "id": "de345260",
   "metadata": {},
   "source": [
    "# 12. Describe the clustering mechanism in detail. "
   ]
  },
  {
   "cell_type": "markdown",
   "id": "39a26c67",
   "metadata": {},
   "source": [
    "It is basically a type of unsupervised learning method. An unsupervised learning method is a method in which we draw references from datasets consisting of input data without labeled responses. Generally, it is used as a process to find meaningful structure, explanatory underlying processes, generative features, and groupings inherent in a set of examples. \n",
    "\n",
    "Clustering is the task of dividing the population or data points into a number of groups such that data points in the same groups are more similar to other data points in the same group and dissimilar to the data points in other groups. It is basically a collection of objects on the basis of similarity and dissimilarity between them. "
   ]
  },
  {
   "cell_type": "markdown",
   "id": "f7ad4ce9",
   "metadata": {},
   "source": [
    "# 13. Make brief observations on two of the following topics:\n",
    "#### i. Machine learning algorithms are used\n",
    "#### ii. Studying under supervision\n",
    "#### iii. Studying without supervision\n",
    "#### iv. Reinforcement learning is a form of learning based on positive reinforcement.\n"
   ]
  },
  {
   "cell_type": "markdown",
   "id": "1b2b2edd",
   "metadata": {},
   "source": [
    "The breif observations on the following two topics is:\n",
    "\n",
    "Machine learning algorithms are used: At its Most basic, Machine Learning uses programmed algorithms that receive and analyse input data to predict output values within an acceptable range. As new data is fed to these algorithms, they learn and optimise their operations to improve performance, developing intelligence over time.\n",
    "\n",
    "Studying Under Supervision: In machine learning, there are two important categories- Supervised and Unsupervised learning.Supervised learning, an algorithm learns from a training dataset. We know the correct answers or desired output, the algorithm makes predictions using the given dataset and is corrected by the “supervisor”."
   ]
  }
 ],
 "metadata": {
  "kernelspec": {
   "display_name": "Python 3",
   "language": "python",
   "name": "python3"
  },
  "language_info": {
   "codemirror_mode": {
    "name": "ipython",
    "version": 3
   },
   "file_extension": ".py",
   "mimetype": "text/x-python",
   "name": "python",
   "nbconvert_exporter": "python",
   "pygments_lexer": "ipython3",
   "version": "3.8.8"
  }
 },
 "nbformat": 4,
 "nbformat_minor": 5
}
