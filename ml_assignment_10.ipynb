{
 "cells": [
  {
   "cell_type": "markdown",
   "id": "ef8ab905",
   "metadata": {},
   "source": [
    "# 1.Define the Bayesian interpretation of probability.\n"
   ]
  },
  {
   "cell_type": "markdown",
   "id": "aab9097b",
   "metadata": {},
   "source": [
    "ans.Bayesian probability is an interpretation of the concept of probability, in which, instead of frequency or propensity of some phenomenon, probability is interpreted as reasonable expectation representing a state of knowledge or as quantification of a personal belief."
   ]
  },
  {
   "cell_type": "markdown",
   "id": "eeb0c954",
   "metadata": {},
   "source": [
    "# 2.Define probability of a union of two events with equation."
   ]
  },
  {
   "cell_type": "markdown",
   "id": "dbb03cdd",
   "metadata": {},
   "source": [
    "ans.Union of events: The union of events A and B, denoted by A ∪ B , consists of all outcomes that are in A or in B or in both A and B. Intersection of events: The intersection of events A and B, denoted by A ∩ B , consists of all outcomes that are in both A and B.\n",
    "The general probability addition rule for the union of two events states that P(A∪B)=P(A)+P(B)−P(A∩B) P ( A ∪ B ) = P ( A ) + P ( B ) − P ( A ∩ B ) , where A∩B A ∩ B is the intersection of the two sets."
   ]
  },
  {
   "cell_type": "markdown",
   "id": "73bb11e8",
   "metadata": {},
   "source": [
    "# 3.What is joint probability? What is its formula?\n"
   ]
  },
  {
   "cell_type": "markdown",
   "id": "f344f458",
   "metadata": {},
   "source": [
    "ans.  Probabilities are combined using multiplication, therefore the joint probability of independent events is calculated as the probability of event A multiplied by the probability of event B. This can be stated formally as follows:\n",
    "\n",
    "Joint Probability: P(A and B) = P(A)*P(B)"
   ]
  },
  {
   "cell_type": "markdown",
   "id": "e631fd30",
   "metadata": {},
   "source": [
    "# 4. What is chain rule of probability?\n",
    "Ans: The chain rule, or general product rule, calculates any component of the joint distribution of a set of random variables using only conditional probabilities. This probability theory is used as a foundation for backpropagation and in creating Bayesian networks."
   ]
  },
  {
   "cell_type": "markdown",
   "id": "c6f37973",
   "metadata": {},
   "source": [
    "# 5. What is conditional probability means? What is the formula of it?\n",
    "Ans: Conditional probability is defined as the likelihood of an event or outcome occurring, based on the occurrence of a previous event or outcome.\n",
    "\n",
    "Conditional probability is calculated by multiplying the probability of the preceding event by the updated probability of the succeeding, or conditional, event.# 5. What is conditional probability means? What is the formula of it?\n",
    "Ans: Conditional probability is defined as the likelihood of an event or outcome occurring, based on the occurrence of a previous event or outcome.\n",
    "\n",
    "Conditional probability is calculated by multiplying the probability of the preceding event by the updated probability of the succeeding, or conditional, event."
   ]
  },
  {
   "cell_type": "markdown",
   "id": "b4e4ca60",
   "metadata": {},
   "source": [
    "# 6. What are continuous random variables?\n",
    "Ans: A continuous random variable X takes all values in a given interval of numbers. ▪ The probability distribution of a continuous random variable is shown by a density curve. ▪ The probability that X is between an interval of numbers is the area under the density curve between the interval endpoints."
   ]
  },
  {
   "cell_type": "markdown",
   "id": "d3385b70",
   "metadata": {},
   "source": [
    "# 7. What are Bernoulli distributions? What is the formula of it?\n",
    "Ans: A Bernoulli distribution is a discrete probability distribution for a Bernoulli trial — a random experiment that has only two outcomes (usually called a Succes or a Failure).The expected value for a random variable, X.\n",
    "\n",
    "For a Bernoulli distribution is: E[X] = p.For example, if p = 0.04, then E[X] = 0.4"
   ]
  },
  {
   "cell_type": "markdown",
   "id": "07369463",
   "metadata": {},
   "source": [
    "# 8. What is binomial distribution? What is the formula?\n",
    "Ans: The binomial is a type of distribution that has two possible outcomes (the prefix “bi” means two, or twice).For example, a coin toss has only two possible outcomes: heads or tails and taking a test could have two possible outcomes: pass or fail.\n",
    "\n",
    "A Binomial Distribution shows either (S)uccess or (F)ailure.# "
   ]
  },
  {
   "cell_type": "markdown",
   "id": "511c56ac",
   "metadata": {},
   "source": [
    "# 9. What is Poisson distribution? What is the formula?\n",
    "Ans: A Poisson distribution is defined as a discrete frequency distribution that gives the probability of the number of independent events that occur in the fixed time.\n",
    "\n",
    "In statistics, a Poisson distribution is a probability distribution that is used to show how many times an event is likely to occur over a specified period. ... The Poisson distribution is a discrete function, meaning that the variable can only take specific values in a (potentially infinite) list.\n",
    "\n",
    "# 10. Define covariance ?\n",
    "Ans: Covariance is a measure of how much two random variables vary together. It's similar to variance, but where variance tells you how a single variable varies, co variance tells you how two variables vary together.\n",
    "\n",
    "# 11. Define correlation ?\n",
    "Ans: Correlation explains how one or more variables are related to each other. These variables can be input data features which have been used to forecast our target variable. It's a bi-variate analysis measure which describes the association between different variables.\n",
    "\n",
    "# 12. Define sampling with replacement. Give example.\n",
    "Ans: If you sample with replacement, you would choose one person's name, put that person's name back in the hat, and then choose another name. The possibilities for your two-name sample are: John, John. John, Jack.\n",
    "\n",
    "# 13. What is sampling without replacement? Give example.\n",
    "Ans: In sampling without replacement, each sample unit of the population has only one chance to be selected in the sample. For example, if one draws a simple random sample such that no unit occurs more than one time in the sample, the sample is drawn without replacement.\n",
    "\n",
    "# 14.What is hypothesis? Give example.\n",
    "Ans: A hypothesis (plural hypotheses) is a proposed explanation for a phenomenon. For a hypothesis to be a scientific hypothesis, the scientific method requires that one can test it. ... Even though the words \"hypothesis\" and \"theory\" are often used synonymously, a scientific hypothesis is not the same as a scientific theory.\n",
    "\n",
    "Examples of hypothesis statements: If garlic repels fleas, then a dog that is given garlic every day will not get fleas. Bacterial growth may be affected by moisture levels in the air. If sugar causes cavities, then people who eat a lot of candy may be more prone to cavities."
   ]
  }
 ],
 "metadata": {
  "kernelspec": {
   "display_name": "Python 3",
   "language": "python",
   "name": "python3"
  },
  "language_info": {
   "codemirror_mode": {
    "name": "ipython",
    "version": 3
   },
   "file_extension": ".py",
   "mimetype": "text/x-python",
   "name": "python",
   "nbconvert_exporter": "python",
   "pygments_lexer": "ipython3",
   "version": "3.8.8"
  }
 },
 "nbformat": 4,
 "nbformat_minor": 5
}
