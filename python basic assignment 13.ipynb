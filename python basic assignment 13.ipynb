{
 "cells": [
  {
   "cell_type": "markdown",
   "id": "8e452ca3",
   "metadata": {},
   "source": [
    "# 1. What advantages do Excel spreadsheets have over CSV spreadsheets?\n"
   ]
  },
  {
   "cell_type": "markdown",
   "id": "c7765e3d",
   "metadata": {},
   "source": [
    "The difference between CSV and XLS file formats is that CSV format is a plain text format in which values are separated by commas (Comma Separated Values), while XLS file format is an Excel Sheets binary file format which holds information about all the worksheets in a file, including both content and formatting."
   ]
  },
  {
   "cell_type": "markdown",
   "id": "b1db1427",
   "metadata": {},
   "source": [
    "# 2.What do you pass to csv.reader() and csv.writer() to create reader and writer objects?\n"
   ]
  },
  {
   "cell_type": "code",
   "execution_count": null,
   "id": "e4b8963e",
   "metadata": {},
   "outputs": [],
   "source": [
    "\n",
    "import csv\n",
    "with open('text.csv','r') as file:\n",
    "    csv_file = csv.reader(file,delimiter=',')\n",
    "    for ele in csv_file:\n",
    "        print(ele)"
   ]
  },
  {
   "cell_type": "markdown",
   "id": "464e4cc8",
   "metadata": {},
   "source": [
    "# 3. What modes do File objects for reader and writer objects need to be opened in?\n"
   ]
  },
  {
   "cell_type": "markdown",
   "id": "c8e860cf",
   "metadata": {},
   "source": [
    "Ans: For csv.reader(iterable_file_object), the file objects needed to be opened in read mode mode='r' Whereas for csv.writer(iterable_file_object) the file objects needed to be opened in write mode mode='w'"
   ]
  },
  {
   "cell_type": "markdown",
   "id": "e130bd17",
   "metadata": {},
   "source": [
    "# 4. What method takes a list argument and writes it to a CSV file?\n"
   ]
  },
  {
   "cell_type": "markdown",
   "id": "932b96ab",
   "metadata": {},
   "source": [
    "Ans: csv.writer class provides two methods for writing to CSV. They are writerow() and writerows(). writerow() method writes a single row at a time. Whereas writerows() method is used to write multiple rows at a time."
   ]
  },
  {
   "cell_type": "markdown",
   "id": "c5ee3abe",
   "metadata": {},
   "source": [
    "# 5. What do the keyword arguments delimiter and line terminator do?\n"
   ]
  },
  {
   "cell_type": "markdown",
   "id": "255f0b12",
   "metadata": {},
   "source": [
    "Lets take the example of a csv file:\n",
    "First Name, Last Name, Age\n",
    "Mano, Vishnu, 24\n",
    "Vishnu, Vardhan, 21\n",
    "Here ',' is Delimiter. We can use any Character as per our needs if required. Similarly Line Terminator comes at end of line by default it is newline and can be changed accourding to Requirement."
   ]
  },
  {
   "cell_type": "markdown",
   "id": "12c784aa",
   "metadata": {},
   "source": [
    "# 6. What function takes a string of JSON data and returns a Python data structure?\n"
   ]
  },
  {
   "cell_type": "markdown",
   "id": "90b9aa8b",
   "metadata": {},
   "source": [
    "Ans: loads() method takes a string of JSON data and returns a Python data structure"
   ]
  },
  {
   "cell_type": "markdown",
   "id": "7ac147c9",
   "metadata": {},
   "source": [
    "# 7. What function takes a Python data structure and returns a string of JSON data?"
   ]
  },
  {
   "cell_type": "markdown",
   "id": "37a30741",
   "metadata": {},
   "source": [
    "dumps() method takes a python data structure and returns a string of JSON data"
   ]
  }
 ],
 "metadata": {
  "kernelspec": {
   "display_name": "Python 3 (ipykernel)",
   "language": "python",
   "name": "python3"
  },
  "language_info": {
   "codemirror_mode": {
    "name": "ipython",
    "version": 3
   },
   "file_extension": ".py",
   "mimetype": "text/x-python",
   "name": "python",
   "nbconvert_exporter": "python",
   "pygments_lexer": "ipython3",
   "version": "3.9.12"
  }
 },
 "nbformat": 4,
 "nbformat_minor": 5
}
