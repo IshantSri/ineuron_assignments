{
 "cells": [
  {
   "cell_type": "markdown",
   "id": "5bf68105",
   "metadata": {},
   "source": [
    "# 1. What exactly is []?"
   ]
  },
  {
   "cell_type": "markdown",
   "id": "6b415c78",
   "metadata": {},
   "source": [
    "Ans.It is aempty list which contains no data."
   ]
  },
  {
   "cell_type": "markdown",
   "id": "8b4706bb",
   "metadata": {},
   "source": [
    "# 2. In a list of values stored in a variable called spam, how would you assign the value 'hello' as the third value? (Assume [2, 4, 6, 8, 10] are in spam.)Let's pretend the spam includes the list ['a', 'b', 'c', 'd'] for the next three queries."
   ]
  },
  {
   "cell_type": "markdown",
   "id": "2803fe1c",
   "metadata": {},
   "source": [
    "Ans.spam[2] = 'hello'"
   ]
  },
  {
   "cell_type": "markdown",
   "id": "cf37c099",
   "metadata": {},
   "source": [
    "# 3. What is the value of spam[int(int('3' * 2) / 11)]?"
   ]
  },
  {
   "cell_type": "markdown",
   "id": "909b4c5e",
   "metadata": {},
   "source": [
    "Ans.'d' as Here we are multiplying '3' with 2 where '3' is a string value, it will return '33' after this we are type casting our str value to int and then divide it by 11 which in return will give 3 means 3rd value in our list which is 'd'"
   ]
  },
  {
   "cell_type": "code",
   "execution_count": 7,
   "id": "90384584",
   "metadata": {},
   "outputs": [
    {
     "data": {
      "text/plain": [
       "'d'"
      ]
     },
     "execution_count": 7,
     "metadata": {},
     "output_type": "execute_result"
    }
   ],
   "source": [
    "spam = ['a', 'b', 'c', 'd']\n",
    "spam[int(int('3' * 2) / 11)]"
   ]
  },
  {
   "cell_type": "code",
   "execution_count": 9,
   "id": "fccee6ac",
   "metadata": {},
   "outputs": [
    {
     "data": {
      "text/plain": [
       "'33'"
      ]
     },
     "execution_count": 9,
     "metadata": {},
     "output_type": "execute_result"
    }
   ],
   "source": [
    "'3'*2"
   ]
  },
  {
   "cell_type": "markdown",
   "id": "460f6303",
   "metadata": {},
   "source": [
    "# 4. What is the value of spam[-1]?"
   ]
  },
  {
   "cell_type": "markdown",
   "id": "383f0044",
   "metadata": {},
   "source": [
    "Ans.'d' 1st number from end of the list."
   ]
  },
  {
   "cell_type": "code",
   "execution_count": 10,
   "id": "a696ab38",
   "metadata": {},
   "outputs": [
    {
     "data": {
      "text/plain": [
       "'d'"
      ]
     },
     "execution_count": 10,
     "metadata": {},
     "output_type": "execute_result"
    }
   ],
   "source": [
    "spam[-1]"
   ]
  },
  {
   "cell_type": "markdown",
   "id": "53cecfd0",
   "metadata": {},
   "source": [
    "# 5. What is the value of spam[:2]?"
   ]
  },
  {
   "cell_type": "code",
   "execution_count": 14,
   "id": "31f8f7a1",
   "metadata": {},
   "outputs": [
    {
     "data": {
      "text/plain": [
       "['a', 'b']"
      ]
     },
     "execution_count": 14,
     "metadata": {},
     "output_type": "execute_result"
    }
   ],
   "source": [
    "spam[:2]#this code is to get values in a list from 0 to 2 possition."
   ]
  },
  {
   "cell_type": "markdown",
   "id": "3ab8a226",
   "metadata": {},
   "source": [
    "# Let's pretend bacon has the list [3.14, 'cat,' 11, 'cat,' True] for the next three questions."
   ]
  },
  {
   "cell_type": "markdown",
   "id": "419f1634",
   "metadata": {},
   "source": [
    "# 6. What is the value of bacon.index('cat')?"
   ]
  },
  {
   "cell_type": "code",
   "execution_count": 25,
   "id": "df27785c",
   "metadata": {},
   "outputs": [
    {
     "data": {
      "text/plain": [
       "1"
      ]
     },
     "execution_count": 25,
     "metadata": {},
     "output_type": "execute_result"
    }
   ],
   "source": [
    "bacon= [3.14, 'cat', 11, 'cat', True]\n",
    "bacon.index('cat')# we will get 1 bcz python always ignores the second position of same value automatically."
   ]
  },
  {
   "cell_type": "markdown",
   "id": "c8e53ab0",
   "metadata": {},
   "source": [
    "# 7. How does bacon.append(99) change the look of the list value in bacon?"
   ]
  },
  {
   "cell_type": "code",
   "execution_count": 26,
   "id": "43fd8f78",
   "metadata": {},
   "outputs": [
    {
     "data": {
      "text/plain": [
       "[3.14, 'cat', 11, 'cat', True, 99]"
      ]
     },
     "execution_count": 26,
     "metadata": {},
     "output_type": "execute_result"
    }
   ],
   "source": [
    "bacon.append(99) #it will add 99 in the end of the list.\n",
    "bacon"
   ]
  },
  {
   "cell_type": "markdown",
   "id": "06ca11b8",
   "metadata": {},
   "source": [
    "# 8. How does bacon.remove('cat') change the look of the list in bacon?"
   ]
  },
  {
   "cell_type": "code",
   "execution_count": 28,
   "id": "d21bdbb2",
   "metadata": {},
   "outputs": [
    {
     "data": {
      "text/plain": [
       "[3.14, 11, True, 99]"
      ]
     },
     "execution_count": 28,
     "metadata": {},
     "output_type": "execute_result"
    }
   ],
   "source": [
    "bacon.remove('cat')#it will remove all the 'cat' from the list.\n",
    "bacon"
   ]
  },
  {
   "cell_type": "markdown",
   "id": "428182af",
   "metadata": {},
   "source": [
    "# 9. What are the list concatenation and list replication operators?"
   ]
  },
  {
   "cell_type": "markdown",
   "id": "ca060de4",
   "metadata": {},
   "source": [
    "Ans.concatenation stands for joining multiple lists and replication stands for multiple repitation of list oprators for both are + and *."
   ]
  },
  {
   "cell_type": "code",
   "execution_count": 29,
   "id": "799645b1",
   "metadata": {},
   "outputs": [
    {
     "name": "stdout",
     "output_type": "stream",
     "text": [
      "[5, 5, 5, 5, 8, 69, 47, 1, 0, 10, 10, 0]\n",
      "[5, 5, 5, 5, 8, 69, 47, 1, 0, 10, 10, 0, 5, 5, 5, 5, 8, 69, 47, 1, 0, 10, 10, 0]\n"
     ]
    }
   ],
   "source": [
    "c = [5,5,5,5,8,69,47,]\n",
    "f = [1,0,10,10,0]\n",
    "g = c+f\n",
    "print(g)\n",
    "h = g*2\n",
    "print(h)"
   ]
  },
  {
   "cell_type": "markdown",
   "id": "e0b01677",
   "metadata": {},
   "source": [
    "# 10. What is difference between the list methods append() and insert()?"
   ]
  },
  {
   "cell_type": "markdown",
   "id": "016544ea",
   "metadata": {},
   "source": [
    "Ans.append() will add data values only to the end of a list and insert() can add them anywhere in the list."
   ]
  },
  {
   "cell_type": "code",
   "execution_count": 40,
   "id": "826df0e0",
   "metadata": {},
   "outputs": [
    {
     "name": "stdout",
     "output_type": "stream",
     "text": [
      "[1, 2, 4, 5, 5, 0]\n",
      "[1, 2, 4, 'abc', 5, 5, 0]\n"
     ]
    }
   ],
   "source": [
    "a=[1,2,4,5,5]\n",
    "a.append(0)\n",
    "print(a)\n",
    "b = a\n",
    "b.insert(3,'abc')\n",
    "print(b)"
   ]
  },
  {
   "cell_type": "markdown",
   "id": "1c72a343",
   "metadata": {},
   "source": [
    "# 11. What are the two methods for removing items from a list?"
   ]
  },
  {
   "cell_type": "markdown",
   "id": "194b2a27",
   "metadata": {},
   "source": [
    "Ans.del and remove are two methods can be used to remove items from list."
   ]
  },
  {
   "cell_type": "code",
   "execution_count": 41,
   "id": "47fef9db",
   "metadata": {},
   "outputs": [
    {
     "name": "stdout",
     "output_type": "stream",
     "text": [
      "[1, 2, 'abc', 5, 5, 0]\n",
      "[1, 2, 5, 5, 0]\n"
     ]
    }
   ],
   "source": [
    "del b[2]\n",
    "print (b)\n",
    "b.remove('abc')\n",
    "print(b)"
   ]
  },
  {
   "cell_type": "markdown",
   "id": "38f5d12c",
   "metadata": {},
   "source": [
    "# 12. Describe how list values and string values are identical."
   ]
  },
  {
   "cell_type": "markdown",
   "id": "a839c3fc",
   "metadata": {},
   "source": [
    "Ans.both can be sliced,leanth can be calculated,both have indexes"
   ]
  },
  {
   "cell_type": "markdown",
   "id": "9461bc94",
   "metadata": {},
   "source": [
    "# 13. What's the difference between tuples and lists?"
   ]
  },
  {
   "cell_type": "markdown",
   "id": "77330e2a",
   "metadata": {},
   "source": [
    "Ans. Syntax Differences:- \n",
    "Syntax of list and tuple is slightly different. Lists are surrounded by square brackets [] and Tuples are surrounded by parenthesis ().\n",
    "\n",
    "Mutability:-\n",
    "list is mutable and tupples are immutable.\n",
    " \n",
    "size:-\n",
    "tuple is smaller in size when compared with list."
   ]
  },
  {
   "cell_type": "markdown",
   "id": "dda42ea5",
   "metadata": {},
   "source": [
    "# 14. How do you type a tuple value that only contains the integer 42?"
   ]
  },
  {
   "cell_type": "code",
   "execution_count": 49,
   "id": "c72c00dc",
   "metadata": {},
   "outputs": [
    {
     "name": "stdout",
     "output_type": "stream",
     "text": [
      "(42,)\n"
     ]
    },
    {
     "data": {
      "text/plain": [
       "tuple"
      ]
     },
     "execution_count": 49,
     "metadata": {},
     "output_type": "execute_result"
    }
   ],
   "source": [
    "n =(42,)\n",
    "print(n)\n",
    "type(n)"
   ]
  },
  {
   "cell_type": "markdown",
   "id": "f74922dc",
   "metadata": {},
   "source": [
    "# 15. How do you get a list value's tuple form? How do you get a tuple value's list form?"
   ]
  },
  {
   "cell_type": "markdown",
   "id": "e2403d51",
   "metadata": {},
   "source": [
    "Ans.we can use list() and tuple()."
   ]
  },
  {
   "cell_type": "code",
   "execution_count": 55,
   "id": "5e822365",
   "metadata": {},
   "outputs": [
    {
     "data": {
      "text/plain": [
       "list"
      ]
     },
     "execution_count": 55,
     "metadata": {},
     "output_type": "execute_result"
    }
   ],
   "source": [
    "a = (1,5,6,[5,5,58,8])\n",
    "type(a)\n",
    "n = list(a)\n",
    "type(n)"
   ]
  },
  {
   "cell_type": "code",
   "execution_count": 56,
   "id": "fbff893c",
   "metadata": {},
   "outputs": [
    {
     "data": {
      "text/plain": [
       "tuple"
      ]
     },
     "execution_count": 56,
     "metadata": {},
     "output_type": "execute_result"
    }
   ],
   "source": [
    "m = tuple(n)\n",
    "type(m)"
   ]
  },
  {
   "cell_type": "markdown",
   "id": "dfd85a16",
   "metadata": {},
   "source": [
    "# 16. Variables that \"contain\" list values are not necessarily lists themselves. Instead, what do they contain?"
   ]
  },
  {
   "cell_type": "markdown",
   "id": "09e5a1aa",
   "metadata": {},
   "source": [
    "Ans.they are just name with which we refer our list."
   ]
  },
  {
   "cell_type": "markdown",
   "id": "e13c5501",
   "metadata": {},
   "source": [
    "# 17. How do you distinguish between copy.copy() and copy.deepcopy()?"
   ]
  },
  {
   "cell_type": "markdown",
   "id": "ee389b5e",
   "metadata": {},
   "source": [
    "copy.copy() copies the list but it always update the copied object whenever we make changes to our orignal object.But copy.deepcopy() cunstruct a new variable or object when used it do not make any changes into our copies due to change in old object. "
   ]
  }
 ],
 "metadata": {
  "kernelspec": {
   "display_name": "Python 3",
   "language": "python",
   "name": "python3"
  },
  "language_info": {
   "codemirror_mode": {
    "name": "ipython",
    "version": 3
   },
   "file_extension": ".py",
   "mimetype": "text/x-python",
   "name": "python",
   "nbconvert_exporter": "python",
   "pygments_lexer": "ipython3",
   "version": "3.8.8"
  }
 },
 "nbformat": 4,
 "nbformat_minor": 5
}
