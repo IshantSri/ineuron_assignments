{
 "cells": [
  {
   "cell_type": "markdown",
   "id": "cf0a8df6",
   "metadata": {},
   "source": [
    "# 1. In what modes should the PdfFileReader() and PdfFileWriter() File objects will be opened?\n"
   ]
  },
  {
   "cell_type": "markdown",
   "id": "ed8b33e6",
   "metadata": {},
   "source": [
    "In both cases, the $PdfFileReader()$ and $PdfFileWriter()$ modes are used to indicate that the file should be opened in binary mode for reading and writing, respectively. This is necessary because PDF files are binary files and must be handled as such."
   ]
  },
  {
   "cell_type": "code",
   "execution_count": 37,
   "id": "37f043b3",
   "metadata": {},
   "outputs": [],
   "source": [
    "from PyPDF2 import PdfReader,PdfWriter\n",
    "\n",
    "#reader = PdfReader(\"book.pdf\")\n",
    "#number_of_pages = len(reader.pages)\n",
    "#page = reader.pages[]\n",
    "#text = page.extract_text()\n",
    "#number_of_pages\n",
    "#text"
   ]
  },
  {
   "cell_type": "markdown",
   "id": "60e07f15",
   "metadata": {},
   "source": [
    "# 2. From a PdfFileReader object, how do you get a Page object for page 5?\n"
   ]
  },
  {
   "cell_type": "markdown",
   "id": "0855fe40",
   "metadata": {},
   "source": [
    "page = reader.pages[5]"
   ]
  },
  {
   "cell_type": "markdown",
   "id": "61159e5b",
   "metadata": {},
   "source": [
    "# 3. What PdfFileReader variable stores the number of pages in the PDF document?\n"
   ]
  },
  {
   "cell_type": "markdown",
   "id": "7ac3a324",
   "metadata": {},
   "source": [
    "The total number of pages in the document is stored in the numPages attribute of a PdfFileReader.\n",
    "number_of_pages = len(reader.pages)"
   ]
  },
  {
   "cell_type": "markdown",
   "id": "0af26262",
   "metadata": {},
   "source": [
    "# 4. If a PdfFileReader object’s PDF is encrypted with the password swordfish, what must you do before you can obtain Page objects from it?\n"
   ]
  },
  {
   "cell_type": "markdown",
   "id": "eb57c648",
   "metadata": {},
   "source": [
    "If a PdfFileReader object’s PDF is encrypted with the password swordfish and you're not aware of it. first read the Pdf using the PdfFileReader Class. PdfFileReader class provides a attribute called isEncrypted to check whether a pdf is encrypted or not. the method returns true if a pdf is encrypted and vice versa.\n",
    "if pdf is encrypted use the decrypt() method provided by PdfFileReader class first then try to read the contents/pages of the pdf, else PyPDF2 will raise the following error PyPDF2.utils.PdfReadError: file has not been decrypted"
   ]
  },
  {
   "cell_type": "markdown",
   "id": "e17f361a",
   "metadata": {},
   "source": [
    "# 5. What methods do you use to rotate a page?\n"
   ]
  },
  {
   "cell_type": "code",
   "execution_count": 40,
   "id": "52858c3e",
   "metadata": {},
   "outputs": [],
   "source": [
    "writer = PdfWriter()\n",
    "writer.add_page(reader.pages[0])\n",
    "writer.pages[0].rotate(90)\n",
    "with open(\"book.pdf\", \"wb\") as fp:\n",
    "    writer.write(fp)"
   ]
  },
  {
   "cell_type": "markdown",
   "id": "9e29facd",
   "metadata": {},
   "source": [
    "# 6. What is the difference between a Run object and a Paragraph object?\n"
   ]
  },
  {
   "cell_type": "markdown",
   "id": "bd2772a3",
   "metadata": {},
   "source": [
    "A Run object is a contiguous run of text with the same style. A new Run object is needed whenever the text style changes\n",
    "and this whole contiguous text is known as paragraph object."
   ]
  },
  {
   "cell_type": "markdown",
   "id": "bb98ec13",
   "metadata": {},
   "source": [
    "# 7. How do you obtain a list of Paragraph objects for a Document object that’s stored in a variable named doc?\n"
   ]
  },
  {
   "cell_type": "code",
   "execution_count": null,
   "id": "a08c0a63",
   "metadata": {},
   "outputs": [],
   "source": [
    "# Example Program\n",
    "from docx import Document\n",
    "doc = Document(\"sample_file.docx\") # Path of the Docx file\n",
    "print(doc.paragraphs) # Prints the list of Paragraph objects for a Document\n",
    "for paragraph in doc.paragraphs:\n",
    "    print(paragraph.text) # Prints the text in the paragraph"
   ]
  },
  {
   "cell_type": "markdown",
   "id": "7eed1a79",
   "metadata": {},
   "source": [
    "# 8. What type of object has bold, underline, italic, strike, and outline variables?\n"
   ]
  },
  {
   "cell_type": "markdown",
   "id": "6df4c24b",
   "metadata": {},
   "source": [
    "Ans: Run object has bold, underline, italic, strike, and outline variables. The text in a Word document is more than just a string. It has font, size, color, and other styling information associated with it.\n",
    "\n",
    "A style in Word is a collection of these attributes. A Run object is a contiguous run of text with the same style. A new Run object is needed whenever the text style changes."
   ]
  },
  {
   "cell_type": "markdown",
   "id": "71a9ae9e",
   "metadata": {},
   "source": [
    "# 9. What is the difference between False, True, and None for the bold variable?\n"
   ]
  },
  {
   "cell_type": "code",
   "execution_count": null,
   "id": "b5a0c6f9",
   "metadata": {},
   "outputs": [],
   "source": [
    "bold = True  # Style Set to Bold\n",
    "bold = False # Style Not Set to Bold\n",
    "bold = None # Style is Not Applicable"
   ]
  },
  {
   "cell_type": "markdown",
   "id": "7bb632d8",
   "metadata": {},
   "source": [
    "# 10. How do you create a Document object for a new Word document?\n"
   ]
  },
  {
   "cell_type": "code",
   "execution_count": null,
   "id": "631893c4",
   "metadata": {},
   "outputs": [],
   "source": [
    "# Example Program\n",
    "from docx import Document\n",
    "document = Document()\n",
    "document.add_paragraph(\"Learn python programming\")\n",
    "document.save('mydocument.docx')"
   ]
  },
  {
   "cell_type": "markdown",
   "id": "6cad7aeb",
   "metadata": {},
   "source": [
    "# 11. How do you add a paragraph with the text &#39;Hello, there!&#39; to a Document object stored in a variable named doc?\n"
   ]
  },
  {
   "cell_type": "code",
   "execution_count": null,
   "id": "29b23223",
   "metadata": {},
   "outputs": [],
   "source": [
    "# Example Program\n",
    "from docx import Document\n",
    "doc = Document()\n",
    "doc.add_paragraph('Hello, there!')\n",
    "doc.save('hello.docx')"
   ]
  },
  {
   "cell_type": "markdown",
   "id": "25dd2d85",
   "metadata": {},
   "source": [
    "# 12. What integers represent the levels of headings available in Word documents?"
   ]
  },
  {
   "cell_type": "markdown",
   "id": "ad546189",
   "metadata": {},
   "source": [
    "Ans: The levels for a heading in a word document can be specified by using the level attribute inside the add_heading method. There are a total of 5 levels statring for 0 t0 4. where level 0 makes a headline with the horizontal line below the text, whereas the heading level 1 is the main heading. Similarly, the other headings are sub-heading with their's font-sizes in decreasing order."
   ]
  }
 ],
 "metadata": {
  "kernelspec": {
   "display_name": "Python 3 (ipykernel)",
   "language": "python",
   "name": "python3"
  },
  "language_info": {
   "codemirror_mode": {
    "name": "ipython",
    "version": 3
   },
   "file_extension": ".py",
   "mimetype": "text/x-python",
   "name": "python",
   "nbconvert_exporter": "python",
   "pygments_lexer": "ipython3",
   "version": "3.9.12"
  }
 },
 "nbformat": 4,
 "nbformat_minor": 5
}
