{
 "cells": [
  {
   "cell_type": "markdown",
   "id": "de792d30",
   "metadata": {},
   "source": [
    "# 1. How do you distinguish between shutil.copy() and shutil.copytree()?\n"
   ]
  },
  {
   "cell_type": "markdown",
   "id": "340a3d93",
   "metadata": {},
   "source": [
    "ans. Calling shutil.copy(source, destination) will copy the file at the path source to the folder at the path destination. (Both source and destination are strings.) If destination is a filename, it will be used as the new name of the copied file. This function returns a string of the path of the copied file.\n",
    "\n",
    "While shutil.copy() will copy a single file, \n",
    "\n",
    "shutil.copytree() will copy an entire folder and every folder and file contained in it. Calling shutil.copytree(source, destination) will copy the folder at the path source, along with all of its files and subfolders, to the folder at the path destination. The source and destination parameters are both strings. The function returns a string of the path of the copied folder."
   ]
  },
  {
   "cell_type": "markdown",
   "id": "03e3b1a5",
   "metadata": {},
   "source": [
    "# 2. What function is used to rename files??\n"
   ]
  },
  {
   "cell_type": "markdown",
   "id": "312724ca",
   "metadata": {},
   "source": [
    "ans. shutil.move()"
   ]
  },
  {
   "cell_type": "markdown",
   "id": "295dcc65",
   "metadata": {},
   "source": [
    "# 3. What is the difference between the delete functions in the send2trash and shutil modules?\n"
   ]
  },
  {
   "cell_type": "markdown",
   "id": "3fda9da7",
   "metadata": {},
   "source": [
    "ans.Calling $shutil.rmtree(path)$ will remove the folder at path, and all files and folders it contains will also be deleted. Python’s built-in shutil.rmtree() function irreversibly deletes files and folders.\n",
    "\n",
    "Using $send2trash$ is much safer than Python’s regular delete functions, because it will send folders and files to your computer’s trash or recycle bin instead of permanently deleting them. \n"
   ]
  },
  {
   "cell_type": "markdown",
   "id": "86e55bcc",
   "metadata": {},
   "source": [
    "# 4.ZipFile objects have a close() method just like File objects’ close() method. What ZipFile method is equivalent to File objects’ open() method?\n"
   ]
  },
  {
   "cell_type": "markdown",
   "id": "6536bd04",
   "metadata": {},
   "source": [
    "Ans.zipfile.ZipFile()"
   ]
  },
  {
   "cell_type": "markdown",
   "id": "cb62dc41",
   "metadata": {},
   "source": [
    "# 5. Create a programme that searches a folder tree for files with a certain file extension (such as .pdf or .jpg). Copy these files from whatever location they are in to a new folder."
   ]
  },
  {
   "cell_type": "code",
   "execution_count": 29,
   "id": "f21805c4",
   "metadata": {},
   "outputs": [],
   "source": [
    "import os\n",
    "import shutil\n",
    "def file_mover(source,destination):\n",
    "    os.chdir(source)\n",
    "    for filename in os.listdir():\n",
    "        if filename.endswith('.jpg') or filename.endswith('.pdf'):\n",
    "            #print(filename)\n",
    "            shutil.copy(source+\"\\\\\"+filename,destination)\n",
    "        else:\n",
    "            return(\"FILE_FORMAT_NOT_MATCHED\")\n",
    "    return('OPPERATION_SUCCESSFULL')\n",
    "    "
   ]
  },
  {
   "cell_type": "code",
   "execution_count": 31,
   "id": "df286769",
   "metadata": {},
   "outputs": [
    {
     "name": "stdout",
     "output_type": "stream",
     "text": [
      "2wifvo.jpg\n",
      "book.pdf\n"
     ]
    },
    {
     "data": {
      "text/plain": [
       "'OPPERATION_SUCCESSFULL'"
      ]
     },
     "execution_count": 31,
     "metadata": {},
     "output_type": "execute_result"
    }
   ],
   "source": [
    "file_mover(\"I:\\\\new\",\"I:\\\\assignment_ineuron\")"
   ]
  }
 ],
 "metadata": {
  "kernelspec": {
   "display_name": "Python 3 (ipykernel)",
   "language": "python",
   "name": "python3"
  },
  "language_info": {
   "codemirror_mode": {
    "name": "ipython",
    "version": 3
   },
   "file_extension": ".py",
   "mimetype": "text/x-python",
   "name": "python",
   "nbconvert_exporter": "python",
   "pygments_lexer": "ipython3",
   "version": "3.9.12"
  }
 },
 "nbformat": 4,
 "nbformat_minor": 5
}
