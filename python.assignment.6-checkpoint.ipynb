{
 "cells": [
  {
   "cell_type": "markdown",
   "id": "aff2cbc6",
   "metadata": {},
   "source": [
    "# 1. What are escape characters, and how do you use them?"
   ]
  },
  {
   "cell_type": "raw",
   "id": "7063f539",
   "metadata": {},
   "source": [
    "Ans.An escape character is used to manipulate string data and insert some value that might give an error if done without escape characters.(used with a backslash)"
   ]
  },
  {
   "cell_type": "markdown",
   "id": "9271c389",
   "metadata": {},
   "source": [
    "# 2. What do the escape characters n and t stand for?"
   ]
  },
  {
   "cell_type": "markdown",
   "id": "23597473",
   "metadata": {},
   "source": [
    "Ans.n is used for new line and t is used for tab"
   ]
  },
  {
   "cell_type": "code",
   "execution_count": 4,
   "id": "3327d832",
   "metadata": {},
   "outputs": [
    {
     "name": "stdout",
     "output_type": "stream",
     "text": [
      "hello \n",
      "world\n",
      "here we used\ttab\n"
     ]
    }
   ],
   "source": [
    "print(\"hello \\nworld\")\n",
    "print(\"here we used\\ttab\")"
   ]
  },
  {
   "cell_type": "markdown",
   "id": "6b954c20",
   "metadata": {},
   "source": [
    "# 3. What is the way to include backslash characters in a string?"
   ]
  },
  {
   "cell_type": "markdown",
   "id": "748ce49a",
   "metadata": {},
   "source": [
    "Ans.backslash charecters are added to string vaue directly example \"hello\\\\ineuron\""
   ]
  },
  {
   "cell_type": "code",
   "execution_count": 7,
   "id": "ac902233",
   "metadata": {},
   "outputs": [
    {
     "name": "stdout",
     "output_type": "stream",
     "text": [
      "hello \\world\n"
     ]
    }
   ],
   "source": [
    "print('hello \\\\world')"
   ]
  },
  {
   "cell_type": "markdown",
   "id": "13f3520b",
   "metadata": {},
   "source": [
    "# 4. The string \"Howl's Moving Castle\" is a correct value. Why isn't the single quote character in the word Howl's not escaped a problem?"
   ]
  },
  {
   "cell_type": "markdown",
   "id": "48958f22",
   "metadata": {},
   "source": [
    "Ans.\"Howl's Moving Castle\" is not giving an error as the string is inside a  \"\" and word howl's is using a ''."
   ]
  },
  {
   "cell_type": "code",
   "execution_count": 8,
   "id": "1cd85f1d",
   "metadata": {},
   "outputs": [
    {
     "name": "stdout",
     "output_type": "stream",
     "text": [
      "Howl's Moving Castle\n"
     ]
    }
   ],
   "source": [
    "print(\"Howl's Moving Castle\")"
   ]
  },
  {
   "cell_type": "markdown",
   "id": "4187ce0a",
   "metadata": {},
   "source": [
    "# 5. How do you write a string of newlines if you don't want to use the n character?"
   ]
  },
  {
   "cell_type": "markdown",
   "id": "61a2887c",
   "metadata": {},
   "source": [
    "Ans.by using ''' '''(triple quote) we can ignore using \\n character to print a multiline statement."
   ]
  },
  {
   "cell_type": "code",
   "execution_count": 15,
   "id": "00b321e1",
   "metadata": {},
   "outputs": [
    {
     "name": "stdout",
     "output_type": "stream",
     "text": [
      "Sudhanshu Kumar,\n",
      "                 A Techie Who Was Inspired By Detective Stories\n",
      " \n",
      "                 To Become A Data Scientist\n"
     ]
    }
   ],
   "source": [
    "print('''Sudhanshu Kumar,\n",
    "                 A Techie Who Was Inspired By Detective Stories\n",
    " \n",
    "                 To Become A Data Scientist''')"
   ]
  },
  {
   "cell_type": "markdown",
   "id": "b0e5e563",
   "metadata": {},
   "source": [
    "# 6. What are the values of the given expressions?\n",
    "'Hello, world!'[1]\n",
    "'Hello, world!'[0:5]\n",
    "'Hello, world!'[:5]\n",
    "'Hello, world!'[3:]"
   ]
  },
  {
   "cell_type": "markdown",
   "id": "2fa3d655",
   "metadata": {},
   "source": [
    "Ans.e\n",
    "\n",
    "    Hello\n",
    "    \n",
    "    Hello\n",
    "    \n",
    "    lo, world!"
   ]
  },
  {
   "cell_type": "code",
   "execution_count": 21,
   "id": "920dc4ff",
   "metadata": {},
   "outputs": [
    {
     "name": "stdout",
     "output_type": "stream",
     "text": [
      "e\n",
      "Hello\n",
      "Hello\n",
      "lo, world!\n"
     ]
    }
   ],
   "source": [
    "a ='Hello, world!'[1]\n",
    "b = 'Hello, world!'[0:5]\n",
    "c = 'Hello, world!'[:5]\n",
    "d = 'Hello, world!'[3:]\n",
    "print(a)\n",
    "print(b)\n",
    "print(c)\n",
    "print(d)"
   ]
  },
  {
   "cell_type": "markdown",
   "id": "e93a6bb8",
   "metadata": {},
   "source": [
    "# 7. What are the values of the following expressions?\n",
    "'Hello'.upper()\n",
    "'Hello'.upper().isupper()\n",
    "'Hello'.upper().lower()"
   ]
  },
  {
   "cell_type": "markdown",
   "id": "85178061",
   "metadata": {},
   "source": [
    "Ans.HELLO\n",
    "\n",
    "    True\n",
    "\n",
    "    hello"
   ]
  },
  {
   "cell_type": "code",
   "execution_count": 22,
   "id": "6c52e6b6",
   "metadata": {},
   "outputs": [
    {
     "name": "stdout",
     "output_type": "stream",
     "text": [
      "HELLO\n",
      "True\n",
      "hello\n"
     ]
    }
   ],
   "source": [
    "a = 'Hello'.upper()\n",
    "b = 'Hello'.upper().isupper()\n",
    "c = 'Hello'.upper().lower()\n",
    "print(a)\n",
    "print(b)\n",
    "print(c)"
   ]
  },
  {
   "cell_type": "markdown",
   "id": "bc64216a",
   "metadata": {},
   "source": [
    "# 8. What are the values of the following expressions?\n",
    "'Remember, remember, the fifth of July.'.split()\n",
    "'-'.join('There can only one.'.split())"
   ]
  },
  {
   "cell_type": "markdown",
   "id": "4efdbcdc",
   "metadata": {},
   "source": [
    "Ans.['Remember,', 'remember,', 'the', 'fifth', 'of', 'July.']\n",
    "    \n",
    "    There-can-only-one."
   ]
  },
  {
   "cell_type": "code",
   "execution_count": 27,
   "id": "b2e0544a",
   "metadata": {},
   "outputs": [
    {
     "name": "stdout",
     "output_type": "stream",
     "text": [
      "['Remember,', 'remember,', 'the', 'fifth', 'of', 'July.']\n",
      "There-can-only-one.\n"
     ]
    }
   ],
   "source": [
    "a = 'Remember, remember, the fifth of July.'.split()\n",
    "b = '-'.join('There can only one.'.split())\n",
    "print(a)\n",
    "print(b)"
   ]
  },
  {
   "cell_type": "markdown",
   "id": "a8bb0743",
   "metadata": {},
   "source": [
    "# 9. What are the methods for right-justifying, left-justifying, and centering a string?"
   ]
  },
  {
   "cell_type": "markdown",
   "id": "c2fd692c",
   "metadata": {},
   "source": [
    "Ans.right-justifying:- .rjust()\n",
    "    \n",
    "    left-justifying:- .ljust()\n",
    "        \n",
    "    centering:- .centre()"
   ]
  },
  {
   "cell_type": "code",
   "execution_count": 32,
   "id": "28174995",
   "metadata": {},
   "outputs": [
    {
     "name": "stdout",
     "output_type": "stream",
     "text": [
      "*******abs\n",
      "abs??\n",
      "***abs***\n"
     ]
    }
   ],
   "source": [
    "a = \"abs\"\n",
    "a=a.rjust(10,'*')\n",
    "b = \"abs\"\n",
    "b=b.ljust(5,'?')\n",
    "c = \"abs\"\n",
    "c = c.center(9,'*')\n",
    "print(a)\n",
    "print(b)\n",
    "print(c)"
   ]
  },
  {
   "cell_type": "markdown",
   "id": "23a09483",
   "metadata": {},
   "source": [
    "# 10. What is the best way to remove whitespace characters from the start or end?"
   ]
  },
  {
   "cell_type": "markdown",
   "id": "f7f39204",
   "metadata": {},
   "source": [
    "Ans..strip(), .rstrip(), and .lstrip() can be used to remove whitespace."
   ]
  },
  {
   "cell_type": "code",
   "execution_count": 39,
   "id": "ba0e3fd9",
   "metadata": {},
   "outputs": [
    {
     "data": {
      "text/plain": [
       "\"  'abs'\""
      ]
     },
     "execution_count": 39,
     "metadata": {},
     "output_type": "execute_result"
    }
   ],
   "source": [
    "a = \"  'abs'  \"\n",
    "a.rstrip()\n",
    "#b = \"  abs  \"\n",
    "#b.lstrip()\n",
    "#c = \"  abs  \"\n",
    "#c.strip()\n"
   ]
  }
 ],
 "metadata": {
  "kernelspec": {
   "display_name": "Python 3",
   "language": "python",
   "name": "python3"
  },
  "language_info": {
   "codemirror_mode": {
    "name": "ipython",
    "version": 3
   },
   "file_extension": ".py",
   "mimetype": "text/x-python",
   "name": "python",
   "nbconvert_exporter": "python",
   "pygments_lexer": "ipython3",
   "version": "3.8.8"
  }
 },
 "nbformat": 4,
 "nbformat_minor": 5
}
