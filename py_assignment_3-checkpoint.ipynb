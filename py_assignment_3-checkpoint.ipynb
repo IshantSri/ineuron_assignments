{
 "cells": [
  {
   "cell_type": "markdown",
   "id": "78a72a3c",
   "metadata": {},
   "source": [
    "# 1. Why are functions advantageous to have in your programs?"
   ]
  },
  {
   "cell_type": "markdown",
   "id": "f2c7030c",
   "metadata": {},
   "source": [
    "Ans. Functions are advantageous as they eleminate the repitation of some of our standard codes which makes the programs short , easy to read and update."
   ]
  },
  {
   "cell_type": "markdown",
   "id": "408d63a8",
   "metadata": {},
   "source": [
    "# 2. When does the code in a function run: when it's specified or when it's called?"
   ]
  },
  {
   "cell_type": "markdown",
   "id": "91d7c795",
   "metadata": {},
   "source": [
    "Ans. functions run when we call them means when function is invoked."
   ]
  },
  {
   "cell_type": "markdown",
   "id": "d49c4c14",
   "metadata": {},
   "source": [
    "# 3. What statement creates a function?"
   ]
  },
  {
   "cell_type": "markdown",
   "id": "7be10af5",
   "metadata": {},
   "source": [
    "Ans.\"def\" is the statement used for creating any function through def we define our function."
   ]
  },
  {
   "cell_type": "markdown",
   "id": "337474e0",
   "metadata": {},
   "source": [
    "# 4. What is the difference between a function and a function call?"
   ]
  },
  {
   "cell_type": "markdown",
   "id": "8613c0a9",
   "metadata": {},
   "source": [
    "Ans.A function is procedure to achieve a particular result while function call is using this function to achive that task."
   ]
  },
  {
   "cell_type": "markdown",
   "id": "3cca8cb9",
   "metadata": {},
   "source": [
    "# 5. How many global scopes are there in a Python program? How many local scopes?"
   ]
  },
  {
   "cell_type": "markdown",
   "id": "730e8ed2",
   "metadata": {},
   "source": [
    "Ans.one for global and one for local."
   ]
  },
  {
   "cell_type": "markdown",
   "id": "b83b9ef0",
   "metadata": {},
   "source": [
    "# 6. What happens to variables in a local scope when the function call returns?"
   ]
  },
  {
   "cell_type": "markdown",
   "id": "3df6dfc1",
   "metadata": {},
   "source": [
    "Ans. value of variable at local scope get printed."
   ]
  },
  {
   "cell_type": "code",
   "execution_count": 10,
   "id": "6807fde8",
   "metadata": {},
   "outputs": [
    {
     "data": {
      "text/plain": [
       "5"
      ]
     },
     "execution_count": 10,
     "metadata": {},
     "output_type": "execute_result"
    }
   ],
   "source": [
    "def local_s():\n",
    "    a = 5\n",
    "    return(a)\n",
    "local_s()"
   ]
  },
  {
   "cell_type": "markdown",
   "id": "e1b67b14",
   "metadata": {},
   "source": [
    "# 7. What is the concept of a return value? Is it possible to have a return value in an expression?"
   ]
  },
  {
   "cell_type": "markdown",
   "id": "f88a4f42",
   "metadata": {},
   "source": [
    "Ans.return statement is basically used to end the function and retun the final value or result.yes bcz without any expression output will be none.\n"
   ]
  },
  {
   "cell_type": "markdown",
   "id": "36f369ac",
   "metadata": {},
   "source": [
    "# 8.If a function does not have a return statement, what is the return value of a call to that function?"
   ]
  },
  {
   "cell_type": "markdown",
   "id": "5297a486",
   "metadata": {},
   "source": [
    "Ans.nothing will be returned as an output"
   ]
  },
  {
   "cell_type": "code",
   "execution_count": 11,
   "id": "40ee7e4c",
   "metadata": {},
   "outputs": [],
   "source": [
    "def local_s():\n",
    "    a = 5\n",
    "local_s()"
   ]
  },
  {
   "cell_type": "markdown",
   "id": "842ce440",
   "metadata": {},
   "source": [
    "# 9. How do you make a function variable refer to the global variable?"
   ]
  },
  {
   "cell_type": "markdown",
   "id": "96eb7d34",
   "metadata": {},
   "source": [
    "Ans.we want to refer to a global variable in a function, you can use the global keyword to declare which variables are global."
   ]
  },
  {
   "cell_type": "code",
   "execution_count": 15,
   "id": "315e5a8d",
   "metadata": {},
   "outputs": [
    {
     "name": "stdout",
     "output_type": "stream",
     "text": [
      "Python is fantastic\n"
     ]
    }
   ],
   "source": [
    "x = 10\n",
    "def myfunc():\n",
    "  global x\n",
    "  x = \"fantastic\"\n",
    "\n",
    "myfunc()\n",
    "\n",
    "print(\"Python is \" + x)"
   ]
  },
  {
   "cell_type": "markdown",
   "id": "f8271e75",
   "metadata": {},
   "source": [
    "# 10. What is the data type of None?"
   ]
  },
  {
   "cell_type": "markdown",
   "id": "587acf7a",
   "metadata": {},
   "source": [
    "Ans.None in python sands for null value so the data type of None object will be none itself."
   ]
  },
  {
   "cell_type": "code",
   "execution_count": 2,
   "id": "82f66a88",
   "metadata": {},
   "outputs": [
    {
     "name": "stdout",
     "output_type": "stream",
     "text": [
      "<class 'NoneType'>\n"
     ]
    }
   ],
   "source": [
    "print(type(None))"
   ]
  },
  {
   "cell_type": "markdown",
   "id": "62f3bd25",
   "metadata": {},
   "source": [
    "# 11. What does the sentence import areallyourpetsnamederic do?"
   ]
  },
  {
   "cell_type": "markdown",
   "id": "986df8f7",
   "metadata": {},
   "source": [
    "Ans.import areallyourpetsnamederic will import this particular module if any such module exist."
   ]
  },
  {
   "cell_type": "markdown",
   "id": "4a9c8bd0",
   "metadata": {},
   "source": [
    "# 12. If you had a bacon() feature in a spam module, what would you call it after importing spam?"
   ]
  },
  {
   "cell_type": "markdown",
   "id": "fd9f743c",
   "metadata": {},
   "source": [
    "Ans.bacon() will be known as a function."
   ]
  },
  {
   "cell_type": "markdown",
   "id": "fb2089e3",
   "metadata": {},
   "source": [
    "# 13. What can you do to save a programme from crashing if it encounters an error?"
   ]
  },
  {
   "cell_type": "markdown",
   "id": "04baa8a1",
   "metadata": {},
   "source": [
    "Ans.We can use error handling method(try and except rule) as a precaution and debug the error."
   ]
  },
  {
   "cell_type": "markdown",
   "id": "dbb18504",
   "metadata": {},
   "source": [
    "# 14. What is the purpose of the try clause? What is the purpose of the except clause?"
   ]
  },
  {
   "cell_type": "markdown",
   "id": "4270664f",
   "metadata": {},
   "source": [
    "Ans.TRY clause check for errors if there will be any error then exception will be executed where we specify type of error else if there will be no error then we will get the final output"
   ]
  },
  {
   "cell_type": "code",
   "execution_count": null,
   "id": "7f472da4",
   "metadata": {},
   "outputs": [],
   "source": [
    "try:\n",
    "    # Some Code\n",
    "except:\n",
    "    # Executed if error in the\n",
    "    # try block"
   ]
  }
 ],
 "metadata": {
  "kernelspec": {
   "display_name": "Python 3",
   "language": "python",
   "name": "python3"
  },
  "language_info": {
   "codemirror_mode": {
    "name": "ipython",
    "version": 3
   },
   "file_extension": ".py",
   "mimetype": "text/x-python",
   "name": "python",
   "nbconvert_exporter": "python",
   "pygments_lexer": "ipython3",
   "version": "3.8.8"
  }
 },
 "nbformat": 4,
 "nbformat_minor": 5
}
