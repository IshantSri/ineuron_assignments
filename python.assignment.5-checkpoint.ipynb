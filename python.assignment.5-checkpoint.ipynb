{
 "cells": [
  {
   "cell_type": "markdown",
   "id": "b832b5cd",
   "metadata": {},
   "source": [
    "# 1. What does an empty dictionary's code look like?"
   ]
  },
  {
   "cell_type": "markdown",
   "id": "6537dd8c",
   "metadata": {},
   "source": [
    "Ans.{}"
   ]
  },
  {
   "cell_type": "markdown",
   "id": "0a9d0347",
   "metadata": {},
   "source": [
    "# 2. What is the value of a dictionary value with the key 'foo' and the value 42?"
   ]
  },
  {
   "cell_type": "markdown",
   "id": "d65151f1",
   "metadata": {},
   "source": [
    "Ans.{'foo': 42}"
   ]
  },
  {
   "cell_type": "code",
   "execution_count": 17,
   "id": "5818f9df",
   "metadata": {},
   "outputs": [
    {
     "name": "stdout",
     "output_type": "stream",
     "text": [
      "{'foo': 42}\n"
     ]
    }
   ],
   "source": [
    "a={'foo':42}\n",
    "print(a)"
   ]
  },
  {
   "cell_type": "markdown",
   "id": "6693e1b3",
   "metadata": {},
   "source": [
    "# 3. What is the most significant distinction between a dictionary and a list?"
   ]
  },
  {
   "cell_type": "markdown",
   "id": "4bfd5f03",
   "metadata": {},
   "source": [
    "Ans.syntax-dictonary uses {} and list uses []\n",
    "    nature- dictionary follows key value pair rule but list does not follows key value pair rule\n",
    "    index value- dictionary is unordered and do not have indexes on the other hand lists are ordered and have indexes for every element in it."
   ]
  },
  {
   "cell_type": "markdown",
   "id": "615bbf4a",
   "metadata": {},
   "source": [
    "# 4. What happens if you try to access spam['foo'] if spam is {'bar': 100}?"
   ]
  },
  {
   "cell_type": "markdown",
   "id": "559c4543",
   "metadata": {},
   "source": [
    "Ans.KeyError: 'foo'"
   ]
  },
  {
   "cell_type": "code",
   "execution_count": 18,
   "id": "b426f761",
   "metadata": {},
   "outputs": [
    {
     "ename": "KeyError",
     "evalue": "'foo'",
     "output_type": "error",
     "traceback": [
      "\u001b[1;31m---------------------------------------------------------------------------\u001b[0m",
      "\u001b[1;31mKeyError\u001b[0m                                  Traceback (most recent call last)",
      "\u001b[1;32m<ipython-input-18-56a8e50c7ff8>\u001b[0m in \u001b[0;36m<module>\u001b[1;34m\u001b[0m\n\u001b[0;32m      1\u001b[0m \u001b[0mspam\u001b[0m \u001b[1;33m=\u001b[0m \u001b[1;33m{\u001b[0m\u001b[1;34m'bar'\u001b[0m\u001b[1;33m:\u001b[0m \u001b[1;36m100\u001b[0m\u001b[1;33m}\u001b[0m\u001b[1;33m\u001b[0m\u001b[1;33m\u001b[0m\u001b[0m\n\u001b[1;32m----> 2\u001b[1;33m \u001b[0mspam\u001b[0m\u001b[1;33m[\u001b[0m\u001b[1;34m'foo'\u001b[0m\u001b[1;33m]\u001b[0m\u001b[1;33m\u001b[0m\u001b[1;33m\u001b[0m\u001b[0m\n\u001b[0m",
      "\u001b[1;31mKeyError\u001b[0m: 'foo'"
     ]
    }
   ],
   "source": [
    "spam = {'bar': 100}\n",
    "spam['foo']"
   ]
  },
  {
   "cell_type": "markdown",
   "id": "97852620",
   "metadata": {},
   "source": [
    "# 5. If a dictionary is stored in spam, what is the difference between the expressions 'cat' in spam and 'cat' in spam.keys()?"
   ]
  },
  {
   "cell_type": "markdown",
   "id": "726ada04",
   "metadata": {},
   "source": [
    "Ans.there will be no difference in output of both as both are giving the same output True and both codes are searching for keys in dictonary."
   ]
  },
  {
   "cell_type": "code",
   "execution_count": 19,
   "id": "5c53590e",
   "metadata": {},
   "outputs": [
    {
     "name": "stdout",
     "output_type": "stream",
     "text": [
      "True\n",
      "True\n"
     ]
    }
   ],
   "source": [
    "spam = {'cat':5}\n",
    "a='cat' in spam\n",
    "b='cat'in spam.keys()\n",
    "print(a)\n",
    "print(b)"
   ]
  },
  {
   "cell_type": "markdown",
   "id": "e9526f42",
   "metadata": {},
   "source": [
    "# 6. If a dictionary is stored in spam, what is the difference between the expressions 'cat' in spam and 'cat' in spam.values()?"
   ]
  },
  {
   "cell_type": "markdown",
   "id": "85113198",
   "metadata": {},
   "source": [
    "Ans. as shown a will check keys and b will check for values."
   ]
  },
  {
   "cell_type": "code",
   "execution_count": 20,
   "id": "0970c81c",
   "metadata": {},
   "outputs": [
    {
     "name": "stdout",
     "output_type": "stream",
     "text": [
      "True\n",
      "False\n"
     ]
    }
   ],
   "source": [
    "spam = {'cat':5}\n",
    "a='cat' in spam\n",
    "b='cat'in spam.values()\n",
    "print(a)\n",
    "print(b)"
   ]
  },
  {
   "cell_type": "markdown",
   "id": "38063037",
   "metadata": {},
   "source": [
    "# 7. What is a shortcut for the following code?\n",
    "if 'color' not in spam:\n",
    "spam['color'] = 'black'"
   ]
  },
  {
   "cell_type": "markdown",
   "id": "560c10df",
   "metadata": {},
   "source": [
    "Ans.spam.setdefault('color', 'black')"
   ]
  },
  {
   "cell_type": "markdown",
   "id": "c52b72bf",
   "metadata": {},
   "source": [
    "# 8. How do you \"pretty print\" dictionary values using which module and function?"
   ]
  },
  {
   "cell_type": "markdown",
   "id": "638644ca",
   "metadata": {},
   "source": [
    "Ans.Import the pprint module into programs,now we’ll have access to the pprint() and pformat() functions that will “pretty print” a dictionary’s values."
   ]
  }
 ],
 "metadata": {
  "kernelspec": {
   "display_name": "Python 3",
   "language": "python",
   "name": "python3"
  },
  "language_info": {
   "codemirror_mode": {
    "name": "ipython",
    "version": 3
   },
   "file_extension": ".py",
   "mimetype": "text/x-python",
   "name": "python",
   "nbconvert_exporter": "python",
   "pygments_lexer": "ipython3",
   "version": "3.8.8"
  }
 },
 "nbformat": 4,
 "nbformat_minor": 5
}
